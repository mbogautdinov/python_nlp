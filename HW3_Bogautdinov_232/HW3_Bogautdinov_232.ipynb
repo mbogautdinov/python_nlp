{
 "cells": [
  {
   "cell_type": "markdown",
   "id": "a019be05-fe5d-4bef-9373-01f08280f2b1",
   "metadata": {},
   "source": [
    "## Домашнее задание #3: Базы данных и Flask"
   ]
  },
  {
   "cell_type": "markdown",
   "id": "9196d9f4-d7bd-4a86-a6f0-9f700dddd26a",
   "metadata": {},
   "source": [
    "av Марат Богаутдинов, 232"
   ]
  },
  {
   "cell_type": "markdown",
   "id": "c392742d-1522-4e16-92ba-b3d315bf84d6",
   "metadata": {},
   "source": [
    "#### 1.i &emsp; Дизайн таблиц"
   ]
  },
  {
   "cell_type": "markdown",
   "id": "07e0db6c-578a-4dce-9470-526ba0a63aa4",
   "metadata": {},
   "source": [
    "В целом дизайн таблиц видно в UML-модели, но давайте все равно здесь отдельно пропишу, кто за что отвечает и почему именно такая конфигурация таблиц предлагается:\n",
    "- сущность **TAG:&emsp;tagID (PK), name**&emsp;$-$ в целом можно было бы спокойно обойтись и без ID, но вдруг когда-нибудь сайт полностью обновит себя, перезапустится и заодно зазахочет обновить все теги, а старые тем не менее сохранить захочет: тогда для одного тега **India** потребуется два айдишника $-$ для старого и нового тега;\n",
    "- сущность **AUTHOR:&emsp;authorID (PK), name**\n",
    "- сущность **ARTICLE:&emsp;articleID (PK), title, author (FK), pubDate, link, text**:\n",
    "- отношение **TAG_ARTICLE:&emsp;tagID (PK, FK), articleID (PK, FK)**\n",
    "- отношение **AUTHOR_ARTICLE:&emsp;authorID (PK, FK), articleID (PK, FK)**\n",
    "\n",
    "\n",
    "<img src=\"https://github.com/mbogautdinov/FCL_projects/blob/main/db_uml.png?raw=1\">"
   ]
  },
  {
   "cell_type": "markdown",
   "id": "1d104f85-3577-4e1e-8764-6b741921b400",
   "metadata": {},
   "source": [
    "#### 1.ii &emsp; Таблицы и связи через Flask-SQLAlchemy"
   ]
  },
  {
   "cell_type": "markdown",
   "id": "6f2625f7-867b-4ea7-9e3c-bc534dce7319",
   "metadata": {},
   "source": [
    "Описание через Flask-SQLAlchemy находится в отдельном файле `models.py`.\n",
    "\n",
    "Воспользовался инструментом `sqlacodegen`, который автоматически генерирует нужную схему через команду `sqlacodegen sqlite:///archdaily.db > models.py`, запущенную из терминала. Решение нашел на [реддите](https://www.reddit.com/r/learnpython/comments/1avh2i4/generate_python_models_for_sqlalchemy_2x_from/).  \n",
    "\n",
    "Сами таблицы я создал внутри DB Browser, не через питоновскую библиотеку `sqlite3`."
   ]
  },
  {
   "cell_type": "markdown",
   "id": "ab55eced-ea39-4e26-a565-c1d0c77c0a55",
   "metadata": {},
   "source": [
    "#### 1.iii &emsp; Добавление данных"
   ]
  },
  {
   "cell_type": "markdown",
   "id": "ee3639dc-51ce-43d0-9f22-6562f4c01236",
   "metadata": {},
   "source": [
    "Сначала нужно в принципе добавить данные в базу данных. Для это придется немного их обработать:\n",
    "- склеить единую дату в правильном формате (`YYYY-MM-DD`): пока что есть 3 отдельные колонки $-$ день, месяц и год :)))))\n",
    "- вытащить все теги ко всем статьям, чтобы каждому дать свой айдишник: пока что у каждой статьи есть свой **список** тегов\n",
    "- добавить к `href` начало так, чтобы получилась полноценная ссылка \n",
    "\n",
    "А пока посмотрим просто на то, как выглядит наш sample:"
   ]
  },
  {
   "cell_type": "code",
   "execution_count": 5,
   "id": "54c81406-8ba1-434e-b7ff-63450c2cd9fc",
   "metadata": {},
   "outputs": [
    {
     "data": {
      "text/html": [
       "<div>\n",
       "<style scoped>\n",
       "    .dataframe tbody tr th:only-of-type {\n",
       "        vertical-align: middle;\n",
       "    }\n",
       "\n",
       "    .dataframe tbody tr th {\n",
       "        vertical-align: top;\n",
       "    }\n",
       "\n",
       "    .dataframe thead th {\n",
       "        text-align: right;\n",
       "    }\n",
       "</style>\n",
       "<table border=\"1\" class=\"dataframe\">\n",
       "  <thead>\n",
       "    <tr style=\"text-align: right;\">\n",
       "      <th></th>\n",
       "      <th>title</th>\n",
       "      <th>href</th>\n",
       "      <th>full_text</th>\n",
       "      <th>tags</th>\n",
       "      <th>pub_day</th>\n",
       "      <th>pub_month</th>\n",
       "      <th>pub_year</th>\n",
       "      <th>author</th>\n",
       "    </tr>\n",
       "  </thead>\n",
       "  <tbody>\n",
       "    <tr>\n",
       "      <th>670</th>\n",
       "      <td>Finnish Museum of History and Future Selects S...</td>\n",
       "      <td>/1017813/finnish-museum-of-history-and-future-...</td>\n",
       "      <td>Finnish office Sigge Architects has been annou...</td>\n",
       "      <td>['News', 'Architecture News', 'Sigge Architect...</td>\n",
       "      <td>18</td>\n",
       "      <td>6</td>\n",
       "      <td>2024</td>\n",
       "      <td>Maria-Cristina Florian</td>\n",
       "    </tr>\n",
       "    <tr>\n",
       "      <th>926</th>\n",
       "      <td>Designing the Future of Energy: An Exhibition ...</td>\n",
       "      <td>/1015514/designing-the-future-of-energy-an-exh...</td>\n",
       "      <td>The Vitra Design Museum presents 'Transform! D...</td>\n",
       "      <td>['News', 'Architecture News', 'Vitra Design Mu...</td>\n",
       "      <td>10</td>\n",
       "      <td>4</td>\n",
       "      <td>2024</td>\n",
       "      <td>Maria-Cristina Florian</td>\n",
       "    </tr>\n",
       "  </tbody>\n",
       "</table>\n",
       "</div>"
      ],
      "text/plain": [
       "                                                 title  \\\n",
       "670  Finnish Museum of History and Future Selects S...   \n",
       "926  Designing the Future of Energy: An Exhibition ...   \n",
       "\n",
       "                                                  href  \\\n",
       "670  /1017813/finnish-museum-of-history-and-future-...   \n",
       "926  /1015514/designing-the-future-of-energy-an-exh...   \n",
       "\n",
       "                                             full_text  \\\n",
       "670  Finnish office Sigge Architects has been annou...   \n",
       "926  The Vitra Design Museum presents 'Transform! D...   \n",
       "\n",
       "                                                  tags  pub_day  pub_month  \\\n",
       "670  ['News', 'Architecture News', 'Sigge Architect...       18          6   \n",
       "926  ['News', 'Architecture News', 'Vitra Design Mu...       10          4   \n",
       "\n",
       "     pub_year                  author  \n",
       "670      2024  Maria-Cristina Florian  \n",
       "926      2024  Maria-Cristina Florian  "
      ]
     },
     "execution_count": 5,
     "metadata": {},
     "output_type": "execute_result"
    }
   ],
   "source": [
    "import pandas as pd\n",
    "\n",
    "df = pd.read_csv('archdaily_sample.csv')\n",
    "df.sample(2)"
   ]
  },
  {
   "cell_type": "markdown",
   "id": "be2fd686-098d-4bb1-a01e-2b34a66f1587",
   "metadata": {},
   "source": [
    "И начнем его немного ворошить. Во-первых, сделаем адекватную дату. Вообще-то говоря, дата вида `YYYY-MM-DD`::text по своей сути неадекватна $-$ ну как-то грустно в `SQL` не иметь формата данных `date` или `datetime`. По всей видимости, на то она и этот вариант SQLite и light, чтобы особо не утруждать себя поддержкой разнообразных типов данных.  \n",
    "\n",
    "Ну и ладно. Напишем маленькую функцию, которая создаст новую колонку `pubDate`, а три остальные с информацией о дне, месяце и годе удалим:"
   ]
  },
  {
   "cell_type": "code",
   "execution_count": 6,
   "id": "2fa3ae96-3700-4469-9263-3ee51483158a",
   "metadata": {},
   "outputs": [
    {
     "data": {
      "text/html": [
       "<div>\n",
       "<style scoped>\n",
       "    .dataframe tbody tr th:only-of-type {\n",
       "        vertical-align: middle;\n",
       "    }\n",
       "\n",
       "    .dataframe tbody tr th {\n",
       "        vertical-align: top;\n",
       "    }\n",
       "\n",
       "    .dataframe thead th {\n",
       "        text-align: right;\n",
       "    }\n",
       "</style>\n",
       "<table border=\"1\" class=\"dataframe\">\n",
       "  <thead>\n",
       "    <tr style=\"text-align: right;\">\n",
       "      <th></th>\n",
       "      <th>title</th>\n",
       "      <th>href</th>\n",
       "      <th>full_text</th>\n",
       "      <th>tags</th>\n",
       "      <th>pub_day</th>\n",
       "      <th>pub_month</th>\n",
       "      <th>pub_year</th>\n",
       "      <th>author</th>\n",
       "      <th>pubDate</th>\n",
       "    </tr>\n",
       "  </thead>\n",
       "  <tbody>\n",
       "    <tr>\n",
       "      <th>1515</th>\n",
       "      <td>Foster + Partners Designs Model Village for Sa...</td>\n",
       "      <td>/1009980/foster-plus-partners-designs-model-vi...</td>\n",
       "      <td>Foster + Partners has been selected to design ...</td>\n",
       "      <td>['News', 'Architecture News', 'Expo 2025 Osaka...</td>\n",
       "      <td>21</td>\n",
       "      <td>11</td>\n",
       "      <td>2023</td>\n",
       "      <td>Nour Fakharany</td>\n",
       "      <td>2023-11-21</td>\n",
       "    </tr>\n",
       "    <tr>\n",
       "      <th>255</th>\n",
       "      <td>Mesmerizing Zigzags: Exploring the Herringbone...</td>\n",
       "      <td>/1001298/mesmerizing-zigzags-exploring-the-her...</td>\n",
       "      <td>Created by a series of angled parallel lines t...</td>\n",
       "      <td>['News', 'Articles', 'Herringbone', 'ceramics'...</td>\n",
       "      <td>8</td>\n",
       "      <td>10</td>\n",
       "      <td>2024</td>\n",
       "      <td>Camila Prieto</td>\n",
       "      <td>2024-10-08</td>\n",
       "    </tr>\n",
       "  </tbody>\n",
       "</table>\n",
       "</div>"
      ],
      "text/plain": [
       "                                                  title  \\\n",
       "1515  Foster + Partners Designs Model Village for Sa...   \n",
       "255   Mesmerizing Zigzags: Exploring the Herringbone...   \n",
       "\n",
       "                                                   href  \\\n",
       "1515  /1009980/foster-plus-partners-designs-model-vi...   \n",
       "255   /1001298/mesmerizing-zigzags-exploring-the-her...   \n",
       "\n",
       "                                              full_text  \\\n",
       "1515  Foster + Partners has been selected to design ...   \n",
       "255   Created by a series of angled parallel lines t...   \n",
       "\n",
       "                                                   tags  pub_day  pub_month  \\\n",
       "1515  ['News', 'Architecture News', 'Expo 2025 Osaka...       21         11   \n",
       "255   ['News', 'Articles', 'Herringbone', 'ceramics'...        8         10   \n",
       "\n",
       "      pub_year          author     pubDate  \n",
       "1515      2023  Nour Fakharany  2023-11-21  \n",
       "255       2024   Camila Prieto  2024-10-08  "
      ]
     },
     "execution_count": 6,
     "metadata": {},
     "output_type": "execute_result"
    }
   ],
   "source": [
    "df['pubDate'] = df.apply(lambda row: f'{row['pub_year']}-{str(row['pub_month']).zfill(2)}-{str(row['pub_day']).zfill(2)}', axis=1)\n",
    "df.sample(2)"
   ]
  },
  {
   "cell_type": "code",
   "execution_count": 7,
   "id": "091947a5-7902-4ee7-9659-c070dfcbdae5",
   "metadata": {},
   "outputs": [
    {
     "data": {
      "text/html": [
       "<div>\n",
       "<style scoped>\n",
       "    .dataframe tbody tr th:only-of-type {\n",
       "        vertical-align: middle;\n",
       "    }\n",
       "\n",
       "    .dataframe tbody tr th {\n",
       "        vertical-align: top;\n",
       "    }\n",
       "\n",
       "    .dataframe thead th {\n",
       "        text-align: right;\n",
       "    }\n",
       "</style>\n",
       "<table border=\"1\" class=\"dataframe\">\n",
       "  <thead>\n",
       "    <tr style=\"text-align: right;\">\n",
       "      <th></th>\n",
       "      <th>title</th>\n",
       "      <th>href</th>\n",
       "      <th>full_text</th>\n",
       "      <th>tags</th>\n",
       "      <th>author</th>\n",
       "      <th>pubDate</th>\n",
       "      <th>articleID</th>\n",
       "    </tr>\n",
       "  </thead>\n",
       "  <tbody>\n",
       "    <tr>\n",
       "      <th>132</th>\n",
       "      <td>18th Istanbul Biennial Appoints Christine Tohm...</td>\n",
       "      <td>/1023115/18th-istanbul-biennial-appoints-chris...</td>\n",
       "      <td>The Istanbul Foundation for Culture and Arts (...</td>\n",
       "      <td>['News', 'Architecture News', 'Istanbul', 'Ist...</td>\n",
       "      <td>Nour Fakharany</td>\n",
       "      <td>2024-11-04</td>\n",
       "      <td>132</td>\n",
       "    </tr>\n",
       "    <tr>\n",
       "      <th>1691</th>\n",
       "      <td>The Supporters' Newsletter - Issue #5</td>\n",
       "      <td>/1009689/the-supporters-newsletter-issue-number-5</td>\n",
       "      <td>At ArchDaily, we face the constant challenge o...</td>\n",
       "      <td>['News', 'Articles']</td>\n",
       "      <td>ArchDaily Team</td>\n",
       "      <td>2023-10-16</td>\n",
       "      <td>1691</td>\n",
       "    </tr>\n",
       "  </tbody>\n",
       "</table>\n",
       "</div>"
      ],
      "text/plain": [
       "                                                  title  \\\n",
       "132   18th Istanbul Biennial Appoints Christine Tohm...   \n",
       "1691              The Supporters' Newsletter - Issue #5   \n",
       "\n",
       "                                                   href  \\\n",
       "132   /1023115/18th-istanbul-biennial-appoints-chris...   \n",
       "1691  /1009689/the-supporters-newsletter-issue-number-5   \n",
       "\n",
       "                                              full_text  \\\n",
       "132   The Istanbul Foundation for Culture and Arts (...   \n",
       "1691  At ArchDaily, we face the constant challenge o...   \n",
       "\n",
       "                                                   tags          author  \\\n",
       "132   ['News', 'Architecture News', 'Istanbul', 'Ist...  Nour Fakharany   \n",
       "1691                               ['News', 'Articles']  ArchDaily Team   \n",
       "\n",
       "         pubDate  articleID  \n",
       "132   2024-11-04        132  \n",
       "1691  2023-10-16       1691  "
      ]
     },
     "execution_count": 7,
     "metadata": {},
     "output_type": "execute_result"
    }
   ],
   "source": [
    "df = df.drop(labels=['pub_year', 'pub_month', 'pub_day'], axis=1)\n",
    "# создадим колонку с ID\n",
    "df['articleID'] = [i for i in range(len(df))]\n",
    "df.sample(2)"
   ]
  },
  {
   "cell_type": "markdown",
   "id": "689034d8-5336-46e0-87c3-09a25426fc84",
   "metadata": {},
   "source": [
    "Отлично, теперь достанем все теги и запишем их в свой датафрейм:"
   ]
  },
  {
   "cell_type": "code",
   "execution_count": 8,
   "id": "f63d9a86-6e95-42c2-b9a6-6a579f2379c0",
   "metadata": {},
   "outputs": [
    {
     "data": {
      "text/plain": [
       "(28460, 1)"
      ]
     },
     "execution_count": 8,
     "metadata": {},
     "output_type": "execute_result"
    }
   ],
   "source": [
    "# сначала приведем в нормальные списки наши теги\n",
    "df.tags = df.tags.str.strip(\"[]\").str.replace(\"'\", \"\").str.split(\", \")\n",
    "\n",
    "list_tags = []\n",
    "for row in range(len(df)):\n",
    "    list_tags += df.tags[row]\n",
    "\n",
    "df_tags = pd.DataFrame({'name': list_tags})\n",
    "df_tags.shape"
   ]
  },
  {
   "cell_type": "markdown",
   "id": "f00d80d3-9e95-4dba-8baa-8f6ffafe166e",
   "metadata": {},
   "source": [
    "Удалим дупликаты:"
   ]
  },
  {
   "cell_type": "code",
   "execution_count": 9,
   "id": "1c77ade9-0187-4c99-a83c-3f88f2b5f4a2",
   "metadata": {},
   "outputs": [
    {
     "data": {
      "text/plain": [
       "((4894, 2),\n",
       "                     name  tagID\n",
       " 1461      Gottfried Böhm   1461\n",
       " 909   Warren and Mahoney    909)"
      ]
     },
     "execution_count": 9,
     "metadata": {},
     "output_type": "execute_result"
    }
   ],
   "source": [
    "df_tags = df_tags.drop_duplicates().reset_index(drop=True)\n",
    "# создадим колонку с ID\n",
    "df_tags['tagID'] = [i for i in range(len(df_tags))]\n",
    "df_tags.shape, df_tags.sample(2)"
   ]
  },
  {
   "cell_type": "markdown",
   "id": "484cb341-2c48-4e94-b0c3-7fe9bf0d3326",
   "metadata": {},
   "source": [
    "Великолепно! теперь то же самое повторим с авторами:"
   ]
  },
  {
   "cell_type": "code",
   "execution_count": 10,
   "id": "853c66fd-e50f-4451-8e47-114606c529c6",
   "metadata": {},
   "outputs": [
    {
     "data": {
      "text/plain": [
       "((132, 2),\n",
       "                name  authorID\n",
       " 97    Jaume Barnada        97\n",
       " 24  Romullo Baratto        24)"
      ]
     },
     "execution_count": 10,
     "metadata": {},
     "output_type": "execute_result"
    }
   ],
   "source": [
    "list_authors = []\n",
    "for row in range(len(df)):\n",
    "    list_authors += [df.author[row]]\n",
    "\n",
    "df_authors = pd.DataFrame({'name': list_authors}).drop_duplicates().reset_index(drop=True)\n",
    "# создадим колонку с ID\n",
    "df_authors['authorID'] = [i for i in range(len(df_authors))]\n",
    "df_authors.shape, df_authors.sample(2)"
   ]
  },
  {
   "cell_type": "markdown",
   "id": "e0f787ab-9d3c-4e35-b627-3c8e92dfb8b0",
   "metadata": {},
   "source": [
    "И последнее: поменяем названия некоторых колонок и добавим к `href` начало `https://www.archdaily.com`:"
   ]
  },
  {
   "cell_type": "code",
   "execution_count": 11,
   "id": "d1d05cf5-836e-43b4-84de-b2971bfcfd8e",
   "metadata": {},
   "outputs": [
    {
     "data": {
      "text/html": [
       "<div>\n",
       "<style scoped>\n",
       "    .dataframe tbody tr th:only-of-type {\n",
       "        vertical-align: middle;\n",
       "    }\n",
       "\n",
       "    .dataframe tbody tr th {\n",
       "        vertical-align: top;\n",
       "    }\n",
       "\n",
       "    .dataframe thead th {\n",
       "        text-align: right;\n",
       "    }\n",
       "</style>\n",
       "<table border=\"1\" class=\"dataframe\">\n",
       "  <thead>\n",
       "    <tr style=\"text-align: right;\">\n",
       "      <th></th>\n",
       "      <th>title</th>\n",
       "      <th>link</th>\n",
       "      <th>text</th>\n",
       "      <th>tags</th>\n",
       "      <th>author</th>\n",
       "      <th>pubDate</th>\n",
       "      <th>articleID</th>\n",
       "    </tr>\n",
       "  </thead>\n",
       "  <tbody>\n",
       "    <tr>\n",
       "      <th>0</th>\n",
       "      <td>Evolution of Data Center Design: Modular Const...</td>\n",
       "      <td>https://www.archdaily.com/1024222/evolution-of...</td>\n",
       "      <td>As the AI fervor continues to reshape how peop...</td>\n",
       "      <td>[News, Articles, Smart Cities, Architecture, D...</td>\n",
       "      <td>Ankitha Gattupalli</td>\n",
       "      <td>2024-12-02</td>\n",
       "      <td>0</td>\n",
       "    </tr>\n",
       "    <tr>\n",
       "      <th>1</th>\n",
       "      <td>Concept, Storytelling, and Visualization: The ...</td>\n",
       "      <td>https://www.archdaily.com/1023896/concept-stor...</td>\n",
       "      <td>In architecture, the way we communicate our id...</td>\n",
       "      <td>[News, Articles, Architectural Visualization, ...</td>\n",
       "      <td>Enrique Tovar</td>\n",
       "      <td>2024-12-02</td>\n",
       "      <td>1</td>\n",
       "    </tr>\n",
       "    <tr>\n",
       "      <th>2</th>\n",
       "      <td>The 25 Tallest Buildings in the World</td>\n",
       "      <td>https://www.archdaily.com/779178/these-are-the...</td>\n",
       "      <td>Humanity has become obsessed with breaking its...</td>\n",
       "      <td>[News, Articles, Shanghai, Dubai, Changsha, Ch...</td>\n",
       "      <td>Nicolás Valencia</td>\n",
       "      <td>2024-12-02</td>\n",
       "      <td>2</td>\n",
       "    </tr>\n",
       "  </tbody>\n",
       "</table>\n",
       "</div>"
      ],
      "text/plain": [
       "                                               title  \\\n",
       "0  Evolution of Data Center Design: Modular Const...   \n",
       "1  Concept, Storytelling, and Visualization: The ...   \n",
       "2              The 25 Tallest Buildings in the World   \n",
       "\n",
       "                                                link  \\\n",
       "0  https://www.archdaily.com/1024222/evolution-of...   \n",
       "1  https://www.archdaily.com/1023896/concept-stor...   \n",
       "2  https://www.archdaily.com/779178/these-are-the...   \n",
       "\n",
       "                                                text  \\\n",
       "0  As the AI fervor continues to reshape how peop...   \n",
       "1  In architecture, the way we communicate our id...   \n",
       "2  Humanity has become obsessed with breaking its...   \n",
       "\n",
       "                                                tags              author  \\\n",
       "0  [News, Articles, Smart Cities, Architecture, D...  Ankitha Gattupalli   \n",
       "1  [News, Articles, Architectural Visualization, ...       Enrique Tovar   \n",
       "2  [News, Articles, Shanghai, Dubai, Changsha, Ch...    Nicolás Valencia   \n",
       "\n",
       "      pubDate  articleID  \n",
       "0  2024-12-02          0  \n",
       "1  2024-12-02          1  \n",
       "2  2024-12-02          2  "
      ]
     },
     "execution_count": 11,
     "metadata": {},
     "output_type": "execute_result"
    }
   ],
   "source": [
    "df = df.rename(columns={'href': 'link', 'full_text': 'text'})\n",
    "df['link'] = 'https://www.archdaily.com' + df['link']\n",
    "df.head(3)"
   ]
  },
  {
   "cell_type": "markdown",
   "id": "24441f3b-d904-45be-ad9c-5f401e9680a0",
   "metadata": {},
   "source": [
    "Все, теперь можно приступать к наполнению баз данных данными:"
   ]
  },
  {
   "cell_type": "code",
   "execution_count": 12,
   "id": "3aa4c5c0-0daf-4eee-856d-7cf579be63c5",
   "metadata": {},
   "outputs": [],
   "source": [
    "import sqlite3\n",
    "\n",
    "con = sqlite3.connect('archdaily.db')  # подключение\n",
    "cur = con.cursor()  # курсор"
   ]
  },
  {
   "cell_type": "markdown",
   "id": "4887d8e5-d0f6-4e5d-a209-4cab18956290",
   "metadata": {},
   "source": [
    "Теперь попробуем добавить в базу данных данные: сначала из датафреймов `df_tags`, `df_authors` и `df`."
   ]
  },
  {
   "cell_type": "code",
   "execution_count": 13,
   "id": "acc6b533-ec62-4c10-8a14-45ad5be080f9",
   "metadata": {},
   "outputs": [
    {
     "data": {
      "text/plain": [
       "4894"
      ]
     },
     "execution_count": 13,
     "metadata": {},
     "output_type": "execute_result"
    }
   ],
   "source": [
    "df_tags.to_sql('TAG', con, if_exists='replace', index=False)"
   ]
  },
  {
   "cell_type": "code",
   "execution_count": 14,
   "id": "be8456fd-0784-4e38-9bc8-5bc36010f1cd",
   "metadata": {},
   "outputs": [
    {
     "data": {
      "text/plain": [
       "132"
      ]
     },
     "execution_count": 14,
     "metadata": {},
     "output_type": "execute_result"
    }
   ],
   "source": [
    "df_authors.to_sql('AUTHOR', con, if_exists='replace', index=False)"
   ]
  },
  {
   "cell_type": "code",
   "execution_count": 15,
   "id": "b1ff7614-2c49-472e-873f-4f55a75e0f3d",
   "metadata": {},
   "outputs": [
    {
     "data": {
      "text/plain": [
       "1774"
      ]
     },
     "execution_count": 15,
     "metadata": {},
     "output_type": "execute_result"
    }
   ],
   "source": [
    "df[['title', 'link', 'text', 'pubDate', 'articleID']].to_sql('ARTICLE', con, if_exists='replace', index=False)"
   ]
  },
  {
   "cell_type": "markdown",
   "id": "058e0cc3-074d-4fbc-bb32-c8667f58ce7f",
   "metadata": {},
   "source": [
    "Теперь немного сложнее: заполним таблицы-отношения `AUTHOR_ARTICLE` и `TAG_ARTICLE`"
   ]
  },
  {
   "cell_type": "code",
   "execution_count": 16,
   "id": "2e9392d2-2692-4f09-bdfb-593796d72af5",
   "metadata": {},
   "outputs": [
    {
     "data": {
      "text/html": [
       "<div>\n",
       "<style scoped>\n",
       "    .dataframe tbody tr th:only-of-type {\n",
       "        vertical-align: middle;\n",
       "    }\n",
       "\n",
       "    .dataframe tbody tr th {\n",
       "        vertical-align: top;\n",
       "    }\n",
       "\n",
       "    .dataframe thead th {\n",
       "        text-align: right;\n",
       "    }\n",
       "</style>\n",
       "<table border=\"1\" class=\"dataframe\">\n",
       "  <thead>\n",
       "    <tr style=\"text-align: right;\">\n",
       "      <th></th>\n",
       "      <th>authorID</th>\n",
       "      <th>articleID</th>\n",
       "    </tr>\n",
       "  </thead>\n",
       "  <tbody>\n",
       "    <tr>\n",
       "      <th>1436</th>\n",
       "      <td>116</td>\n",
       "      <td>1436</td>\n",
       "    </tr>\n",
       "    <tr>\n",
       "      <th>1238</th>\n",
       "      <td>105</td>\n",
       "      <td>1238</td>\n",
       "    </tr>\n",
       "    <tr>\n",
       "      <th>144</th>\n",
       "      <td>9</td>\n",
       "      <td>144</td>\n",
       "    </tr>\n",
       "    <tr>\n",
       "      <th>1656</th>\n",
       "      <td>6</td>\n",
       "      <td>1656</td>\n",
       "    </tr>\n",
       "  </tbody>\n",
       "</table>\n",
       "</div>"
      ],
      "text/plain": [
       "      authorID  articleID\n",
       "1436       116       1436\n",
       "1238       105       1238\n",
       "144          9        144\n",
       "1656         6       1656"
      ]
     },
     "execution_count": 16,
     "metadata": {},
     "output_type": "execute_result"
    }
   ],
   "source": [
    "df_auth_art = pd.DataFrame()\n",
    "\n",
    "for author, articleID in zip(df['author'], df['articleID']):\n",
    "    # найдем совпадение автора\n",
    "    author_match = df_authors[df_authors['name'] == author]\n",
    "    if not author_match.empty:\n",
    "        # и тут новая строка с конкретным authorID и articleID\n",
    "        new_row = pd.DataFrame({'authorID': [author_match['authorID'].iloc[0]], 'articleID': [articleID]})\n",
    "        df_auth_art = pd.concat([df_auth_art, new_row], ignore_index=True)\n",
    "\n",
    "df_auth_art.sample(4)"
   ]
  },
  {
   "cell_type": "code",
   "execution_count": 17,
   "id": "ef79db33-578a-45fe-8fa9-a798d25e9179",
   "metadata": {},
   "outputs": [
    {
     "data": {
      "text/html": [
       "<div>\n",
       "<style scoped>\n",
       "    .dataframe tbody tr th:only-of-type {\n",
       "        vertical-align: middle;\n",
       "    }\n",
       "\n",
       "    .dataframe tbody tr th {\n",
       "        vertical-align: top;\n",
       "    }\n",
       "\n",
       "    .dataframe thead th {\n",
       "        text-align: right;\n",
       "    }\n",
       "</style>\n",
       "<table border=\"1\" class=\"dataframe\">\n",
       "  <thead>\n",
       "    <tr style=\"text-align: right;\">\n",
       "      <th></th>\n",
       "      <th>tagID</th>\n",
       "      <th>articleID</th>\n",
       "    </tr>\n",
       "  </thead>\n",
       "  <tbody>\n",
       "    <tr>\n",
       "      <th>2143</th>\n",
       "      <td>0</td>\n",
       "      <td>145</td>\n",
       "    </tr>\n",
       "    <tr>\n",
       "      <th>21579</th>\n",
       "      <td>103</td>\n",
       "      <td>1316</td>\n",
       "    </tr>\n",
       "    <tr>\n",
       "      <th>12578</th>\n",
       "      <td>436</td>\n",
       "      <td>785</td>\n",
       "    </tr>\n",
       "    <tr>\n",
       "      <th>20940</th>\n",
       "      <td>1232</td>\n",
       "      <td>1276</td>\n",
       "    </tr>\n",
       "  </tbody>\n",
       "</table>\n",
       "</div>"
      ],
      "text/plain": [
       "       tagID  articleID\n",
       "2143       0        145\n",
       "21579    103       1316\n",
       "12578    436        785\n",
       "20940   1232       1276"
      ]
     },
     "execution_count": 17,
     "metadata": {},
     "output_type": "execute_result"
    }
   ],
   "source": [
    "df_tag_art = pd.DataFrame()\n",
    "\n",
    "for tags, articleID in zip(df['tags'], df['articleID']):\n",
    "    for tag in tags:\n",
    "        # найдем совпадение тега\n",
    "        tag_match = df_tags[df_tags['name'] == tag]\n",
    "        if not tag_match.empty:\n",
    "            # и тут новая строка с конкретным tagID и articleID\n",
    "            new_row = pd.DataFrame({'tagID': [tag_match['tagID'].iloc[0]], 'articleID': [articleID]})\n",
    "            df_tag_art = pd.concat([df_tag_art, new_row], ignore_index=True)\n",
    "\n",
    "df_tag_art.sample(4)"
   ]
  },
  {
   "cell_type": "markdown",
   "id": "fa86b5ba-3b81-448b-9c08-7292e95ffc90",
   "metadata": {},
   "source": [
    "Осталось только подгрузить их в базу данных:"
   ]
  },
  {
   "cell_type": "code",
   "execution_count": 18,
   "id": "a3d8ea7d-b46c-47d4-a73a-6c89d35adcee",
   "metadata": {},
   "outputs": [
    {
     "data": {
      "text/plain": [
       "28460"
      ]
     },
     "execution_count": 18,
     "metadata": {},
     "output_type": "execute_result"
    }
   ],
   "source": [
    "df_tag_art.to_sql('TAG_ARTICLE', con, if_exists='replace', index=False)"
   ]
  },
  {
   "cell_type": "code",
   "execution_count": 19,
   "id": "62503394-ea30-42f9-8b69-861ad37aadf3",
   "metadata": {},
   "outputs": [
    {
     "data": {
      "text/plain": [
       "1774"
      ]
     },
     "execution_count": 19,
     "metadata": {},
     "output_type": "execute_result"
    }
   ],
   "source": [
    "df_auth_art.to_sql('AUTHOR_ARTICLE', con, if_exists='replace', index=False)"
   ]
  },
  {
   "cell_type": "code",
   "execution_count": 20,
   "id": "5f8abf9f-c5d6-491b-9652-bf63e6a79df9",
   "metadata": {},
   "outputs": [],
   "source": [
    "con.commit()"
   ]
  },
  {
   "cell_type": "code",
   "execution_count": 21,
   "id": "37832c6e-7fdf-4adb-8f48-c33368dbbb17",
   "metadata": {},
   "outputs": [],
   "source": [
    "con.close()"
   ]
  },
  {
   "cell_type": "markdown",
   "id": "00216bd0-0d50-467e-bb1f-4c6fe5079c00",
   "metadata": {},
   "source": [
    "#### 1.iii &emsp; Настоящее добавление данных, а не вот эта обманка, которая была выше"
   ]
  },
  {
   "cell_type": "markdown",
   "id": "843142ee-c8fe-4392-9f5d-4e1d063dd84a",
   "metadata": {},
   "source": [
    "Все остальное $-$ в самих файлах!"
   ]
  },
  {
   "cell_type": "code",
   "execution_count": null,
   "id": "499eb89f-647c-455c-9ad8-c64f2fff4e86",
   "metadata": {},
   "outputs": [],
   "source": []
  }
 ],
 "metadata": {
  "kernelspec": {
   "display_name": "Python 3 (ipykernel)",
   "language": "python",
   "name": "python3"
  },
  "language_info": {
   "codemirror_mode": {
    "name": "ipython",
    "version": 3
   },
   "file_extension": ".py",
   "mimetype": "text/x-python",
   "name": "python",
   "nbconvert_exporter": "python",
   "pygments_lexer": "ipython3",
   "version": "3.12.0"
  }
 },
 "nbformat": 4,
 "nbformat_minor": 5
}
